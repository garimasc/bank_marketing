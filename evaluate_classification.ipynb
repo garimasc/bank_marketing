{
 "cells": [
  {
   "cell_type": "markdown",
   "metadata": {},
   "source": [
    "# Practical Application Assignment 17.1: Comparing Classifiers to Predict Success of Marketing Campaign"
   ]
  },
  {
   "cell_type": "markdown",
   "metadata": {},
   "source": [
    "## Data"
   ]
  },
  {
   "cell_type": "code",
   "execution_count": 1,
   "metadata": {},
   "outputs": [],
   "source": [
    "import pandas as pd\n",
    "import numpy as np\n",
    "\n",
    "import seaborn as sns\n",
    "import matplotlib.pyplot as plt\n",
    "\n",
    "from sklearn.preprocessing import StandardScaler, OneHotEncoder, PolynomialFeatures\n",
    "from sklearn.model_selection import train_test_split, GridSearchCV\n",
    "from sklearn.linear_model import LogisticRegression\n",
    "from sklearn.tree import DecisionTreeClassifier, plot_tree\n",
    "from sklearn.neighbors import KNeighborsClassifier\n",
    "from sklearn.svm import SVC\n",
    "from sklearn.compose import ColumnTransformer\n",
    "from sklearn.pipeline import Pipeline\n",
    "from sklearn.ensemble import BaggingClassifier\n",
    "from sklearn.metrics import RocCurveDisplay\n",
    "\n",
    "import warnings\n",
    "warnings.filterwarnings(action= 'ignore')"
   ]
  },
  {
   "cell_type": "code",
   "execution_count": 2,
   "metadata": {},
   "outputs": [
    {
     "data": {
      "text/html": [
       "<div>\n",
       "<style scoped>\n",
       "    .dataframe tbody tr th:only-of-type {\n",
       "        vertical-align: middle;\n",
       "    }\n",
       "\n",
       "    .dataframe tbody tr th {\n",
       "        vertical-align: top;\n",
       "    }\n",
       "\n",
       "    .dataframe thead th {\n",
       "        text-align: right;\n",
       "    }\n",
       "</style>\n",
       "<table border=\"1\" class=\"dataframe\">\n",
       "  <thead>\n",
       "    <tr style=\"text-align: right;\">\n",
       "      <th></th>\n",
       "      <th>age</th>\n",
       "      <th>job</th>\n",
       "      <th>marital</th>\n",
       "      <th>education</th>\n",
       "      <th>default</th>\n",
       "      <th>balance</th>\n",
       "      <th>housing</th>\n",
       "      <th>loan</th>\n",
       "      <th>contact</th>\n",
       "      <th>day</th>\n",
       "      <th>month</th>\n",
       "      <th>duration</th>\n",
       "      <th>campaign</th>\n",
       "      <th>pdays</th>\n",
       "      <th>previous</th>\n",
       "      <th>poutcome</th>\n",
       "      <th>y</th>\n",
       "    </tr>\n",
       "  </thead>\n",
       "  <tbody>\n",
       "    <tr>\n",
       "      <th>0</th>\n",
       "      <td>30</td>\n",
       "      <td>unemployed</td>\n",
       "      <td>married</td>\n",
       "      <td>primary</td>\n",
       "      <td>no</td>\n",
       "      <td>1787</td>\n",
       "      <td>no</td>\n",
       "      <td>no</td>\n",
       "      <td>cellular</td>\n",
       "      <td>19</td>\n",
       "      <td>oct</td>\n",
       "      <td>79</td>\n",
       "      <td>1</td>\n",
       "      <td>-1</td>\n",
       "      <td>0</td>\n",
       "      <td>unknown</td>\n",
       "      <td>no</td>\n",
       "    </tr>\n",
       "    <tr>\n",
       "      <th>1</th>\n",
       "      <td>33</td>\n",
       "      <td>services</td>\n",
       "      <td>married</td>\n",
       "      <td>secondary</td>\n",
       "      <td>no</td>\n",
       "      <td>4789</td>\n",
       "      <td>yes</td>\n",
       "      <td>yes</td>\n",
       "      <td>cellular</td>\n",
       "      <td>11</td>\n",
       "      <td>may</td>\n",
       "      <td>220</td>\n",
       "      <td>1</td>\n",
       "      <td>339</td>\n",
       "      <td>4</td>\n",
       "      <td>failure</td>\n",
       "      <td>no</td>\n",
       "    </tr>\n",
       "    <tr>\n",
       "      <th>2</th>\n",
       "      <td>35</td>\n",
       "      <td>management</td>\n",
       "      <td>single</td>\n",
       "      <td>tertiary</td>\n",
       "      <td>no</td>\n",
       "      <td>1350</td>\n",
       "      <td>yes</td>\n",
       "      <td>no</td>\n",
       "      <td>cellular</td>\n",
       "      <td>16</td>\n",
       "      <td>apr</td>\n",
       "      <td>185</td>\n",
       "      <td>1</td>\n",
       "      <td>330</td>\n",
       "      <td>1</td>\n",
       "      <td>failure</td>\n",
       "      <td>no</td>\n",
       "    </tr>\n",
       "    <tr>\n",
       "      <th>3</th>\n",
       "      <td>30</td>\n",
       "      <td>management</td>\n",
       "      <td>married</td>\n",
       "      <td>tertiary</td>\n",
       "      <td>no</td>\n",
       "      <td>1476</td>\n",
       "      <td>yes</td>\n",
       "      <td>yes</td>\n",
       "      <td>unknown</td>\n",
       "      <td>3</td>\n",
       "      <td>jun</td>\n",
       "      <td>199</td>\n",
       "      <td>4</td>\n",
       "      <td>-1</td>\n",
       "      <td>0</td>\n",
       "      <td>unknown</td>\n",
       "      <td>no</td>\n",
       "    </tr>\n",
       "    <tr>\n",
       "      <th>4</th>\n",
       "      <td>59</td>\n",
       "      <td>blue-collar</td>\n",
       "      <td>married</td>\n",
       "      <td>secondary</td>\n",
       "      <td>no</td>\n",
       "      <td>0</td>\n",
       "      <td>yes</td>\n",
       "      <td>no</td>\n",
       "      <td>unknown</td>\n",
       "      <td>5</td>\n",
       "      <td>may</td>\n",
       "      <td>226</td>\n",
       "      <td>1</td>\n",
       "      <td>-1</td>\n",
       "      <td>0</td>\n",
       "      <td>unknown</td>\n",
       "      <td>no</td>\n",
       "    </tr>\n",
       "  </tbody>\n",
       "</table>\n",
       "</div>"
      ],
      "text/plain": [
       "   age          job  marital  education default  balance housing loan  \\\n",
       "0   30   unemployed  married    primary      no     1787      no   no   \n",
       "1   33     services  married  secondary      no     4789     yes  yes   \n",
       "2   35   management   single   tertiary      no     1350     yes   no   \n",
       "3   30   management  married   tertiary      no     1476     yes  yes   \n",
       "4   59  blue-collar  married  secondary      no        0     yes   no   \n",
       "\n",
       "    contact  day month  duration  campaign  pdays  previous poutcome   y  \n",
       "0  cellular   19   oct        79         1     -1         0  unknown  no  \n",
       "1  cellular   11   may       220         1    339         4  failure  no  \n",
       "2  cellular   16   apr       185         1    330         1  failure  no  \n",
       "3   unknown    3   jun       199         4     -1         0  unknown  no  \n",
       "4   unknown    5   may       226         1     -1         0  unknown  no  "
      ]
     },
     "execution_count": 2,
     "metadata": {},
     "output_type": "execute_result"
    }
   ],
   "source": [
    "# data = pd.read_csv(\"data/bank-full.csv\", sep= \";\")\n",
    "data = pd.read_csv(\"data/bank.csv\", sep= \";\") # import part dataset of exploratory data analysis\n",
    "data.head()"
   ]
  },
  {
   "cell_type": "code",
   "execution_count": 3,
   "metadata": {},
   "outputs": [
    {
     "data": {
      "text/plain": [
       "y\n",
       "no     0.88476\n",
       "yes    0.11524\n",
       "Name: proportion, dtype: float64"
      ]
     },
     "execution_count": 3,
     "metadata": {},
     "output_type": "execute_result"
    }
   ],
   "source": [
    "data['y'].value_counts(normalize= True)"
   ]
  },
  {
   "cell_type": "markdown",
   "metadata": {},
   "source": [
    "## Modeling"
   ]
  },
  {
   "cell_type": "markdown",
   "metadata": {},
   "source": [
    "### Feature Transfrom"
   ]
  },
  {
   "cell_type": "code",
   "execution_count": 4,
   "metadata": {},
   "outputs": [],
   "source": [
    "cat_features= ['job', 'marital', 'education', 'contact', 'poutcome', 'month']\n",
    "binary_features = ['default', 'housing', 'loan']\n",
    "num_features = np.setdiff1d(data.columns, np.union1d(cat_features, binary_features)).tolist()\n",
    "num_features.remove('y')\n",
    "\n",
    "target= 'y'\n",
    "features = np.setdiff1d(data.columns, target).tolist()\n",
    "\n",
    "data[binary_features] = (data[binary_features] == \"yes\").astype(int)\n",
    "col_transform = ColumnTransformer([\n",
    "    ('oe', OneHotEncoder(drop= 'if_binary'), cat_features),\n",
    "    ('poly', PolynomialFeatures(degree= 1), num_features)], remainder = 'passthrough')"
   ]
  },
  {
   "cell_type": "code",
   "execution_count": 5,
   "metadata": {},
   "outputs": [],
   "source": [
    "X_train, X_test, y_train, y_test = train_test_split(data[features], data[target], test_size= 0.3, stratify= data[target], random_state= 0)"
   ]
  },
  {
   "cell_type": "markdown",
   "metadata": {},
   "source": [
    "### Logistic Regression"
   ]
  },
  {
   "cell_type": "code",
   "execution_count": 6,
   "metadata": {},
   "outputs": [
    {
     "name": "stdout",
     "output_type": "stream",
     "text": [
      "{'clf__C': 1.0, 'transform__poly__degree': 1}\n",
      "---------------------------------\n",
      "Training Accuracy for Logistic Regression: 0.91\n",
      "Test Accuracy for Logistic Regression: 0.90\n"
     ]
    }
   ],
   "source": [
    "logreg_pipe = Pipeline([\n",
    "    ('transform', col_transform),\n",
    "    ('clf', LogisticRegression(penalty= 'l1', solver= 'liblinear'))\n",
    "])\n",
    "\n",
    "param_grid = {'clf__C': [1/(10**pp) for pp in range(0,4)],\n",
    "              'transform__poly__degree': range(1,3)}\n",
    "logreg_grid = GridSearchCV(logreg_pipe, param_grid= param_grid, cv= 5).fit(X_train, y_train)\n",
    "\n",
    "y_pred_logreg = logreg_grid.predict(X_test)\n",
    "\n",
    "print(logreg_grid.best_params_)\n",
    "print(\"---------------------------------\")\n",
    "\n",
    "print(f\"Training Accuracy for Logistic Regression: {logreg_grid.score(X_train, y_train):0.2f}\")\n",
    "print(f\"Test Accuracy for Logistic Regression: {logreg_grid.score(X_test, y_test):0.2f}\")"
   ]
  },
  {
   "cell_type": "markdown",
   "metadata": {},
   "source": [
    "### K-Nearest Neighbors"
   ]
  },
  {
   "cell_type": "code",
   "execution_count": 7,
   "metadata": {},
   "outputs": [
    {
     "name": "stdout",
     "output_type": "stream",
     "text": [
      "{'clf__n_neighbors': 5, 'transform__poly__degree': 2}\n",
      "---------------------------------\n",
      "Training Accuracy for KNN Classifier: 0.91\n",
      "Test Accuracy for KNN Classifier: 0.90\n"
     ]
    }
   ],
   "source": [
    "knn_pipe = Pipeline([\n",
    "    ('transform', col_transform),\n",
    "    ('scale', StandardScaler()),\n",
    "    ('clf', KNeighborsClassifier())\n",
    "])\n",
    "\n",
    "param_grid = {'clf__n_neighbors': [2,5,10,20,50,100,200], 'transform__poly__degree': range(1,3)}\n",
    "knn_grid = GridSearchCV(knn_pipe, param_grid= param_grid, cv= 5).fit(X_train, y_train)\n",
    "\n",
    "y_pred_knn = knn_grid.predict(X_test)\n",
    "\n",
    "print(knn_grid.best_params_)\n",
    "print(\"---------------------------------\")\n",
    "\n",
    "print(f\"Training Accuracy for KNN Classifier: {knn_grid.score(X_train, y_train):0.2f}\")\n",
    "print(f\"Test Accuracy for KNN Classifier: {knn_grid.score(X_test, y_test):0.2f}\")"
   ]
  },
  {
   "cell_type": "markdown",
   "metadata": {},
   "source": [
    "### Decision Tree Classifier"
   ]
  },
  {
   "cell_type": "code",
   "execution_count": 8,
   "metadata": {},
   "outputs": [],
   "source": [
    "tree_pipe = Pipeline([\n",
    "    ('transform', col_transform),\n",
    "    ('clf', DecisionTreeClassifier(random_state=0, criterion= 'entropy'))\n",
    "])\n",
    "\n",
    "param_grid = {'clf__max_depth': range(2,22,2), 'clf__min_samples_split': [2, 0.01, 0.05, 0.1],\n",
    "              'clf__class_weight': [None, 'balanced'],\n",
    "              'transform__poly__degree': range(1,3)}\n",
    "tree_grid = GridSearchCV(tree_pipe, param_grid= param_grid, cv= 5).fit(X_train, y_train)\n",
    "\n",
    "y_pred_tree = tree_grid.predict(X_test)\n",
    "\n",
    "print(tree_grid.best_params_)\n",
    "print(\"---------------------------------\")\n",
    "\n",
    "print(f\"Training Accuracy for Tree Classifier: {tree_grid.score(X_train, y_train):0.2f}\")\n",
    "print(f\"Test Accuracy for Tree Classifier: {tree_grid.score(X_test, y_test):0.2f}\")"
   ]
  },
  {
   "cell_type": "markdown",
   "metadata": {},
   "source": [
    "### Support Vector Machine"
   ]
  },
  {
   "cell_type": "code",
   "execution_count": 13,
   "metadata": {},
   "outputs": [
    {
     "name": "stdout",
     "output_type": "stream",
     "text": [
      "Fitting 5 folds for each of 32 candidates, totalling 160 fits\n"
     ]
    }
   ],
   "source": [
    "svm_pipe = Pipeline([\n",
    "    ('transform', col_transform),\n",
    "    ('clf', estimator=SVC())\n",
    "])\n",
    "\n",
    "param_grid = {'clf__estimator__kernel': ['linear', 'poly', 'rbf', 'sigmoid'], 'clf__estimator__C': [1/(10**pp) for pp in range(0,4)],\n",
    "              'clf__estimator__class_weight': [None, 'balanced']}\n",
    "svm_grid = GridSearchCV(svm_pipe, param_grid= param_grid, cv= 5, verbose= 3).fit(X_train, y_train)\n",
    "\n",
    "y_pred_svm = svm_grid.predict(X_test)\n",
    "\n",
    "print(svm_grid.best_params_)\n",
    "print(\"---------------------------------\")\n",
    "\n",
    "print(f\"Training Accuracy for SVM: {svm_grid.score(X_train, y_train):0.2f}\")\n",
    "print(f\"Test Accuracy for SVM: {svm_grid.score(X_test, y_test):0.2f}\")"
   ]
  },
  {
   "cell_type": "code",
   "execution_count": 105,
   "metadata": {},
   "outputs": [
    {
     "data": {
      "text/plain": [
       "Text(0.5, 0.98, 'Compare ROC Curves for Different Classifiers')"
      ]
     },
     "execution_count": 105,
     "metadata": {},
     "output_type": "execute_result"
    },
    {
     "data": {
      "image/png": "[encoded data removed]",
      "text/plain": [
       "<Figure size 500x500 with 1 Axes>"
      ]
     },
     "metadata": {},
     "output_type": "display_data"
    }
   ],
   "source": [
    "colors = sns.color_palette('rocket')\n",
    "\n",
    "fig,ax = plt.subplots(figsize= (5,5))\n",
    "RocCurveDisplay.from_estimator(logreg_grid, X_test, y_test, name= \"Logistic Regression\", ax= ax, color= colors[0])\n",
    "RocCurveDisplay.from_estimator(tree_grid, X_test, y_test, name= \"Decision Tree\", ax= ax, color= colors[1])\n",
    "RocCurveDisplay.from_estimator(knn_grid, X_test, y_test, name= \"KNN\", ax= ax, color= colors[2])\n",
    "\n",
    "plt.suptitle(\"Compare ROC Curves for Different Classifiers\")"
   ]
  },
  {
   "cell_type": "code",
   "execution_count": null,
   "metadata": {},
   "outputs": [],
   "source": [
    "X_train"
   ]
  },
  {
   "cell_type": "code",
   "execution_count": null,
   "metadata": {},
   "outputs": [],
   "source": []
  }
 ],
 "metadata": {
  "kernelspec": {
   "display_name": "berkeley",
   "language": "python",
   "name": "python3"
  },
  "language_info": {
   "codemirror_mode": {
    "name": "ipython",
    "version": 3
   },
   "file_extension": ".py",
   "mimetype": "text/x-python",
   "name": "python",
   "nbconvert_exporter": "python",
   "pygments_lexer": "ipython3",
   "version": "3.12.2"
  }
 },
 "nbformat": 4,
 "nbformat_minor": 2
}
